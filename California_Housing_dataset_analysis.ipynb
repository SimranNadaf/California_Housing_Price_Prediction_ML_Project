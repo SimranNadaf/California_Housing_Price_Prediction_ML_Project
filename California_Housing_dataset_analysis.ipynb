{
 "cells": [
  {
   "cell_type": "code",
   "execution_count": null,
   "id": "fa9dbb1a",
   "metadata": {},
   "outputs": [],
   "source": [
    "import pandas as pd\n",
    "import numpy as np\n",
    "# from sklearn.daatsets import fetch_california_housing\n",
    "# housing=fetch_california_housing\n",
    "# housing.head()"
   ]
  },
  {
   "cell_type": "markdown",
   "id": "e3f1b65e",
   "metadata": {},
   "source": [
    "### Take a look at the dataset of the california"
   ]
  },
  {
   "cell_type": "code",
   "execution_count": null,
   "id": "2b710343",
   "metadata": {},
   "outputs": [],
   "source": [
    "cf=pd.read_csv('housing.csv')\n",
    "cf.head()"
   ]
  },
  {
   "cell_type": "markdown",
   "id": "80ed0ea2",
   "metadata": {},
   "source": [
    "# Notes :- \n",
    "## 1. Each row or record represents one district and each records having 10 attributes."
   ]
  },
  {
   "cell_type": "code",
   "execution_count": null,
   "id": "bd4eb970",
   "metadata": {},
   "outputs": [],
   "source": [
    "cf.info()"
   ]
  },
  {
   "cell_type": "markdown",
   "id": "c104791c",
   "metadata": {},
   "source": [
    "## By running the command of the info() total no. of record of each attributes datatypes with counting of null value shown"
   ]
  },
  {
   "cell_type": "markdown",
   "id": "aa5a1d7c",
   "metadata": {},
   "source": [
    "## for chacking the null values of the dataset write"
   ]
  },
  {
   "cell_type": "code",
   "execution_count": null,
   "id": "2c3c8a8d",
   "metadata": {},
   "outputs": [],
   "source": [
    "cf.isnull().any()"
   ]
  },
  {
   "cell_type": "code",
   "execution_count": null,
   "id": "d327f4cf",
   "metadata": {},
   "outputs": [],
   "source": [
    "cf.isnull().sum().sum()"
   ]
  },
  {
   "cell_type": "code",
   "execution_count": null,
   "id": "92c33b7c",
   "metadata": {},
   "outputs": [],
   "source": [
    "cf['total_bedrooms'].isnull().sum()"
   ]
  },
  {
   "cell_type": "markdown",
   "id": "d1b54ac3",
   "metadata": {},
   "source": [
    "## The next observation the given attributes are in the numeric datatype except the ocean_proximity "
   ]
  },
  {
   "cell_type": "code",
   "execution_count": null,
   "id": "ac4fe151",
   "metadata": {},
   "outputs": [],
   "source": [
    "cf['ocean_proximity'].value_counts()"
   ]
  },
  {
   "cell_type": "markdown",
   "id": "04c2a3dc",
   "metadata": {},
   "source": [
    "## ocean_proximity is categories which say that how many of the each district belong to which category."
   ]
  },
  {
   "cell_type": "code",
   "execution_count": null,
   "id": "89489f1e",
   "metadata": {},
   "outputs": [],
   "source": [
    "cf.describe()"
   ]
  },
  {
   "cell_type": "markdown",
   "id": "2a308861",
   "metadata": {},
   "source": [
    "## 1. The Count , mean , min and max rows are self explainatory , the null values are ignored so for example the count of total_bedrooms is 20433 not 20604 the std row shows the standard deviation which measures how dispersed the value are,\n",
    "## 2. The 25% , 50% and 75 % rows shows the corresponding percentile, a percentile indicates the value below which a given percentage of observation in a group of observation fail. \n"
   ]
  },
  {
   "cell_type": "markdown",
   "id": "d7a4f583",
   "metadata": {},
   "source": [
    "## Let's plotting the histogram to shows the number of instances on the vertical axis that have a gievn value range (on horizontal axis) you can either plot this one attributes at a time or you can call the hist method on the whole dataset."
   ]
  },
  {
   "cell_type": "code",
   "execution_count": null,
   "id": "e023160e",
   "metadata": {},
   "outputs": [],
   "source": [
    "import matplotlib.pyplot as plt\n",
    "%matplotlib inline\n",
    "cf.hist(bins=90,figsize=(20,15),legend=True,grid=True) # gird is used for grid (boxes) in graph\n",
    "plt.savefig('Histogram_Plotting_california')\n",
    "plt.legend()\n",
    "plt.show()"
   ]
  },
  {
   "cell_type": "markdown",
   "id": "17828b1f",
   "metadata": {},
   "source": [
    "## Median income attribute does not look like it direct number it is scalled between the range of minimum at 0.5 and called at 15.1 the number represent roughly ten of thousand of doller example where 3 is representing 30,000 doller."
   ]
  },
  {
   "cell_type": "markdown",
   "id": "f499d42f",
   "metadata": {},
   "source": [
    "## The housing median age and median house value were also capped."
   ]
  },
  {
   "cell_type": "code",
   "execution_count": null,
   "id": "a4ec17f3",
   "metadata": {},
   "outputs": [],
   "source": [
    "cf.head(2)"
   ]
  },
  {
   "cell_type": "code",
   "execution_count": null,
   "id": "4c7395ef",
   "metadata": {},
   "outputs": [],
   "source": [
    "a=np.random.seed(42)\n",
    "print(a)\n"
   ]
  },
  {
   "cell_type": "markdown",
   "id": "30ae2bdc",
   "metadata": {},
   "source": [
    "# Split training and testing data by random permutation"
   ]
  },
  {
   "cell_type": "code",
   "execution_count": null,
   "id": "67755645",
   "metadata": {},
   "outputs": [],
   "source": [
    "def split_train_test(data,test_ratio):\n",
    "#     shuffled_indicas=np.random.seed(42)\n",
    "    shuffled_indices=np.random.permutation(len(data))\n",
    "    test_set_size=int(len(data)*test_ratio)\n",
    "    test_indices=shuffled_indices[:test_set_size]\n",
    "    train_indices=shuffled_indices[test_set_size:]\n",
    "    return data.iloc[train_indices],data.iloc[test_indices]"
   ]
  },
  {
   "cell_type": "code",
   "execution_count": null,
   "id": "88112138",
   "metadata": {},
   "outputs": [],
   "source": [
    "shuffled_indices=np.random.permutation(len(cf))\n",
    "print(shuffled_indices)"
   ]
  },
  {
   "cell_type": "code",
   "execution_count": null,
   "id": "8d4001b2",
   "metadata": {},
   "outputs": [],
   "source": [
    "train_set,test_set=split_train_test(cf,0.2)"
   ]
  },
  {
   "cell_type": "code",
   "execution_count": null,
   "id": "27475f88",
   "metadata": {},
   "outputs": [],
   "source": [
    "print(len(train_set))\n",
    "print(len(test_set))"
   ]
  },
  {
   "cell_type": "markdown",
   "id": "778e8663",
   "metadata": {},
   "source": [
    "# Split training and testing data by sklearn.model "
   ]
  },
  {
   "cell_type": "code",
   "execution_count": null,
   "id": "aae73361",
   "metadata": {},
   "outputs": [],
   "source": [
    "from sklearn.model_selection import train_test_split\n",
    "train_set,test_set=train_test_split(cf,test_size=0.2,random_state=42)\n",
    "print(len(train_set))\n",
    "print(len(test_set))"
   ]
  },
  {
   "cell_type": "code",
   "execution_count": null,
   "id": "ebe6772b",
   "metadata": {},
   "outputs": [],
   "source": [
    "cf.head(3)"
   ]
  },
  {
   "cell_type": "markdown",
   "id": "720b9491",
   "metadata": {},
   "source": [
    "# Split training and testing data with indexes"
   ]
  },
  {
   "cell_type": "code",
   "execution_count": null,
   "id": "ed5e500a",
   "metadata": {},
   "outputs": [],
   "source": [
    "from zlib import crc32\n",
    "def test_set_check(identifier, test_ratio):\n",
    "    return crc32(np.int64(identifier)) & 0xffffffff < test_ratio *2**32"
   ]
  },
  {
   "cell_type": "code",
   "execution_count": null,
   "id": "fdf75872",
   "metadata": {},
   "outputs": [],
   "source": [
    "def split_train_test_by_id(data,test_ratio,id_column):\n",
    "    ids=data[id_column]\n",
    "    in_test_set=ids.apply(lambda id_:test_set_check(id_,test_ratio))\n",
    "    return data.loc[~in_test_set],data.loc[in_test_set]\n"
   ]
  },
  {
   "cell_type": "code",
   "execution_count": null,
   "id": "36c53a50",
   "metadata": {},
   "outputs": [],
   "source": [
    "cf_with_id=cf.reset_index()\n",
    "train_set,test_set=split_train_test_by_id(cf_with_id,0.2,'index')"
   ]
  },
  {
   "cell_type": "code",
   "execution_count": null,
   "id": "e7942b5d",
   "metadata": {},
   "outputs": [],
   "source": [
    "print(train_set.shape)"
   ]
  },
  {
   "cell_type": "code",
   "execution_count": null,
   "id": "6c76633d",
   "metadata": {},
   "outputs": [],
   "source": [
    "train_set.head()"
   ]
  },
  {
   "cell_type": "code",
   "execution_count": null,
   "id": "551427e2",
   "metadata": {},
   "outputs": [],
   "source": [
    "train_set.keys()"
   ]
  },
  {
   "cell_type": "markdown",
   "id": "976f1830",
   "metadata": {},
   "source": [
    "## For getting more stable unique identifier just fix with district's latitude longitude"
   ]
  },
  {
   "cell_type": "code",
   "execution_count": null,
   "id": "554536b9",
   "metadata": {},
   "outputs": [],
   "source": [
    "cf_with_id['id']=cf['longitude']*1000+cf['latitude']\n",
    "train_set,test_set=split_train_test_by_id(cf_with_id,0.2,'id')"
   ]
  },
  {
   "cell_type": "code",
   "execution_count": null,
   "id": "1773b047",
   "metadata": {},
   "outputs": [],
   "source": [
    "train_set.shape"
   ]
  },
  {
   "cell_type": "code",
   "execution_count": null,
   "id": "9ef80b7d",
   "metadata": {},
   "outputs": [],
   "source": [
    "train_set.head()"
   ]
  },
  {
   "cell_type": "code",
   "execution_count": null,
   "id": "db040ebe",
   "metadata": {},
   "outputs": [],
   "source": [
    "train_set.keys()"
   ]
  },
  {
   "cell_type": "code",
   "execution_count": null,
   "id": "f9b9c4b8",
   "metadata": {},
   "outputs": [],
   "source": [
    "cf['median_income'].describe()"
   ]
  },
  {
   "cell_type": "markdown",
   "id": "36fa9472",
   "metadata": {},
   "source": [
    "## Median income histogram more closely, most of the median income value clustered arround 1.5 to 6 doller that 15000 to 60000 doller but some median income go far beyond the 6 next the code to create an income category by using pd.cut function to create."
   ]
  },
  {
   "cell_type": "code",
   "execution_count": null,
   "id": "2375cb18",
   "metadata": {},
   "outputs": [],
   "source": [
    "cf['median_income'].hist()"
   ]
  },
  {
   "cell_type": "markdown",
   "id": "3ed2bc6a",
   "metadata": {},
   "source": [
    "## numpy module cann also representing value negative and positive."
   ]
  },
  {
   "cell_type": "code",
   "execution_count": null,
   "id": "49346125",
   "metadata": {},
   "outputs": [],
   "source": [
    "cf['income_cat']=pd.cut(cf['median_income'],bins=[0.,1.5,3.0,4.5,6.,np.inf],\n",
    "                       labels=[1,2,3,4,5])"
   ]
  },
  {
   "cell_type": "code",
   "execution_count": null,
   "id": "73118edf",
   "metadata": {},
   "outputs": [],
   "source": [
    "cf['income_cat'].value_counts()"
   ]
  },
  {
   "cell_type": "code",
   "execution_count": null,
   "id": "884deb4e",
   "metadata": {},
   "outputs": [],
   "source": [
    "cf.head()"
   ]
  },
  {
   "cell_type": "code",
   "execution_count": null,
   "id": "240a68e8",
   "metadata": {},
   "outputs": [],
   "source": [
    "cf['income_cat'].hist()"
   ]
  },
  {
   "cell_type": "markdown",
   "id": "5ddb31c6",
   "metadata": {},
   "source": [
    "# Date : 21-06-2023"
   ]
  },
  {
   "cell_type": "markdown",
   "id": "29cfa827",
   "metadata": {},
   "source": [
    "## in statistic , stratified sampling is a method of sampling from a population which can be partitioned into subpopulation. in statistical survey when subpopulation within a overall population very it could be advantegous to sample each subpopulation independently.\n",
    "\n",
    "## let's do the stratified sampling based on the income category for this you can use scikit learn stratifiedshuffleslip class"
   ]
  },
  {
   "cell_type": "code",
   "execution_count": null,
   "id": "6e921d59",
   "metadata": {},
   "outputs": [],
   "source": [
    "from sklearn.model_selection import StratifiedShuffleSplit"
   ]
  },
  {
   "cell_type": "code",
   "execution_count": null,
   "id": "aba7f704",
   "metadata": {},
   "outputs": [],
   "source": [
    "split=StratifiedShuffleSplit(n_splits=1,test_size=0.2,random_state=42)\n",
    "for train_index,test_index in split.split(cf,cf['income_cat']):\n",
    "    strat_train_set=cf.loc[train_index]\n",
    "    strat_test_set=cf.loc[test_index]"
   ]
  },
  {
   "cell_type": "code",
   "execution_count": null,
   "id": "6aa1e73f",
   "metadata": {},
   "outputs": [],
   "source": [
    "strat_test_set['income_cat'].value_counts()/len(strat_test_set)"
   ]
  },
  {
   "cell_type": "markdown",
   "id": "e8842a4b",
   "metadata": {},
   "source": [
    "## <font color='red'> now let's measure the income category proportions in the full data-set, and also compare the income category proportion in the overall dataset, in the test set generated with stratified sampling . and in a test set generated using purely random sampling.\n"
   ]
  },
  {
   "cell_type": "markdown",
   "id": "590c40fb",
   "metadata": {},
   "source": [
    "## <font color='green'> As you can see the test set generated using startified sampling has income category proportion almost identical."
   ]
  },
  {
   "cell_type": "code",
   "execution_count": null,
   "id": "d31baf74",
   "metadata": {},
   "outputs": [],
   "source": [
    "def income_cat_proportions(data):\n",
    "    return data['income_cat'].value_counts()/len(data)\n",
    "train_set,test_set=train_test_split(cf,test_size=0.2,random_state=42)"
   ]
  },
  {
   "cell_type": "code",
   "execution_count": null,
   "id": "2193b1e0",
   "metadata": {},
   "outputs": [],
   "source": [
    "#compare the proportion\n",
    "compare_props=pd.DataFrame({\n",
    "    \"Overall\":income_cat_proportions(cf),\n",
    "    \"Stratified\":income_cat_proportions(strat_test_set),\n",
    "    \"Random\":income_cat_proportions(test_set)\n",
    "}).sort_index()\n",
    "compare_props['Rand. %Error']=100*compare_props['Random']/compare_props['Overall']-100\n",
    "compare_props['Start. %Error']=100*compare_props['Stratified']/compare_props['Overall']-100"
   ]
  },
  {
   "cell_type": "code",
   "execution_count": null,
   "id": "e28cf3a8",
   "metadata": {},
   "outputs": [],
   "source": [
    "print(compare_props)"
   ]
  },
  {
   "cell_type": "code",
   "execution_count": null,
   "id": "53c8a9d3",
   "metadata": {},
   "outputs": [],
   "source": [
    "compare_props"
   ]
  },
  {
   "cell_type": "code",
   "execution_count": null,
   "id": "74612c9b",
   "metadata": {},
   "outputs": [],
   "source": [
    "strat_test_set.head()"
   ]
  },
  {
   "cell_type": "markdown",
   "id": "f53efba6",
   "metadata": {},
   "source": [
    "## now you should remove the income_cat attributes so the data is back to its original state."
   ]
  },
  {
   "cell_type": "code",
   "execution_count": null,
   "id": "668af5d9",
   "metadata": {},
   "outputs": [],
   "source": [
    "for set_ in(strat_train_set,strat_test_set):\n",
    "    set_.drop(\"income_cat\",axis=1,inplace=True)"
   ]
  },
  {
   "cell_type": "code",
   "execution_count": null,
   "id": "745cfbbc",
   "metadata": {},
   "outputs": [],
   "source": [
    "strat_train_set.head()"
   ]
  },
  {
   "cell_type": "code",
   "execution_count": null,
   "id": "b49a46f3",
   "metadata": {},
   "outputs": [],
   "source": [
    "cf=strat_train_set.copy()"
   ]
  },
  {
   "cell_type": "code",
   "execution_count": null,
   "id": "d8a41040",
   "metadata": {},
   "outputs": [],
   "source": [
    "cf.head()"
   ]
  },
  {
   "cell_type": "code",
   "execution_count": null,
   "id": "7692c70f",
   "metadata": {},
   "outputs": [],
   "source": [
    "#for the geographical visualization of data we have\n",
    "#Longitude and latitude features and lets plots\n",
    "#this feature in scatter plotting\n",
    "cf.plot(kind='scatter',x='longitude',y='latitude')\n",
    "plt.xlabel('longitude geographical')\n",
    "plt.ylabel('latitude geographical')\n",
    "plt.show('plotting of latitude and longitude')\n",
    "plt.show()"
   ]
  },
  {
   "cell_type": "markdown",
   "id": "72c9ac84",
   "metadata": {},
   "source": [
    "## the above geographical visualization is much looking like a california population description but for observation the high density for the population setting the alpha =0.1 or for checking the high density of the data point."
   ]
  },
  {
   "cell_type": "code",
   "execution_count": null,
   "id": "a6883a42",
   "metadata": {},
   "outputs": [],
   "source": [
    "cf.plot(kind='scatter',x='longitude',y='latitude',alpha=0.1)\n",
    "plt.xlabel('longitude geographical')\n",
    "plt.ylabel('latitude geographical')\n",
    "plt.show('plotting of latitude and longitude')\n",
    "plt.show()"
   ]
  },
  {
   "cell_type": "markdown",
   "id": "d3e5d834",
   "metadata": {},
   "source": [
    "## Now that's you can see clearly see the high density areaa namely the bay area and around los angleles and san diengo."
   ]
  },
  {
   "cell_type": "code",
   "execution_count": null,
   "id": "36225730",
   "metadata": {},
   "outputs": [],
   "source": [
    "cf.head()"
   ]
  },
  {
   "cell_type": "code",
   "execution_count": null,
   "id": "44159587",
   "metadata": {},
   "outputs": [],
   "source": [
    "cf.plot(kind='scatter',x='longitude',y='latitude',alpha=0.4,s=cf['population']/100,\n",
    "        label='population',figsize=(10,4),c='median_house_value',\n",
    "       cmap=plt.get_cmap('jet'),colorbar=True,sharex=True)\n",
    "plt.xlabel('longitude geographical')\n",
    "plt.ylabel('latitude geographical')\n",
    "plt.title('plotting of latitude and longitude')\n",
    "plt.show()"
   ]
  },
  {
   "cell_type": "code",
   "execution_count": null,
   "id": "f6d0c216",
   "metadata": {},
   "outputs": [],
   "source": [
    "import matplotlib.image as mpimg\n",
    "cl=mpimg.imread('cal.jpg')\n",
    "plt.imshow(cl)\n",
    "plt.show()"
   ]
  },
  {
   "cell_type": "code",
   "execution_count": null,
   "id": "945eb4c1",
   "metadata": {},
   "outputs": [],
   "source": [
    "ax=cf.plot(kind='scatter',x='longitude',y='latitude',alpha=0.4,s=cf['population']/100,\n",
    "        label='population',figsize=(15,6),c='median_house_value',\n",
    "       cmap=plt.get_cmap('jet'),colorbar=True,sharex=True)\n",
    "plt.imshow(cl,extent=[-124.55,-113.80,32.45,42.05],alpha=0.5,cmap=plt.get_cmap('jet'))\n",
    "plt.xlabel(\"Longitude Geographical\")\n",
    "plt.ylabel(\"Latitude Geographical\")\n",
    "plt.title(\"Plotting of latitude and longitude\")\n",
    "\n",
    "prices=cf['median_house_value']\n",
    "ticks_values=np.linspace(prices.min(),prices.max(),11)\n",
    "cbar=plt.colorbar(ticks=ticks_values/prices.max())\n",
    "cbar.ax.set_yticklabels([\"$%dk\"%(round(v/1000))for v in ticks_values],fontsize=14)\n",
    "cbar.set_label('median house value',fontsize=16)\n",
    "plt.legend(fontsize=12)\n",
    "plt.savefig(\"california\")\n",
    "plt.show()"
   ]
  },
  {
   "cell_type": "markdown",
   "id": "7efa8ae9",
   "metadata": {},
   "source": [
    "## since the dataset is not too large so lets do the standard correlation coefficient(also called pearson's) between every pair of attributes using the corr()"
   ]
  },
  {
   "cell_type": "code",
   "execution_count": null,
   "id": "caa538e3",
   "metadata": {},
   "outputs": [],
   "source": [
    "import warnings\n",
    "warnings.filterwarnings('ignore')\n",
    "corr_matrix=cf.corr()\n",
    "corr_matrix"
   ]
  },
  {
   "cell_type": "code",
   "execution_count": null,
   "id": "55f4db7c",
   "metadata": {},
   "outputs": [],
   "source": [
    "import seaborn as sns\n",
    "fig=plt.figure(figsize=(12,8))\n",
    "fig.add_subplot(1,1,1)\n",
    "sns.heatmap(cf.corr(),annot=True,cmap='Oranges')"
   ]
  },
  {
   "cell_type": "markdown",
   "id": "a40cc5b4",
   "metadata": {},
   "source": [
    "## Let's looks at how such each attributes correlated with the median house value"
   ]
  },
  {
   "cell_type": "code",
   "execution_count": null,
   "id": "eacbc9d7",
   "metadata": {},
   "outputs": [],
   "source": [
    "corr_matrix['median_house_value'].sort_values(ascending=False)"
   ]
  },
  {
   "cell_type": "markdown",
   "id": "58ad9fa4",
   "metadata": {},
   "source": [
    "## The correlation coefficient ranges from -1 to 1 when it is close to attribute, it means that there is a strong positive correlation, for example the median house value tends to go up. when the coeffiecient is close to -1 , it means that there is a strong negative correlations you vcan see a small negative correlation between the latitude and the median house value , finally the coeffcient close to 0 means that there is not linear correlation."
   ]
  },
  {
   "cell_type": "markdown",
   "id": "4f9aa828",
   "metadata": {},
   "source": [
    "## Another way to check for the correlation between attributes is to use the pandas scatter_matrix function, which plot every numerical attributes againts every other numerical attributes , since there is 11 numerical attributes you would used 11^2 =121 which would not fit."
   ]
  },
  {
   "cell_type": "markdown",
   "id": "e7196fdb",
   "metadata": {},
   "source": [
    "## <font color='green'>So, let's just focus on a few promising attributes that seems most correlated with the median housing value."
   ]
  },
  {
   "cell_type": "code",
   "execution_count": null,
   "id": "8f3f2ed8",
   "metadata": {},
   "outputs": [],
   "source": [
    "from pandas.plotting import scatter_matrix\n",
    "attributes=['median_house_value','median_income','total_rooms']\n",
    "scatter_matrix(cf[attributes],figsize=(12,8))\n",
    "plt.tight_layout()\n",
    "plt.show()"
   ]
  },
  {
   "cell_type": "markdown",
   "id": "3b27d1f7",
   "metadata": {},
   "source": [
    "# This scatter plotting visualize the numerical attributes against every other numerical attributes, plus histogram of each numerical attributes.\n",
    " ## The main diagonal (top left to bottom right) would be full of straight line if pandas plotted each variance against itself, which would not be very use full.\n",
    " ## The most promosing attributes to predict the median house value is the median income, so lets zoom in on their correlation scatterplot."
   ]
  },
  {
   "cell_type": "code",
   "execution_count": null,
   "id": "bfcc04f1",
   "metadata": {},
   "outputs": [],
   "source": [
    "cf.plot(kind='scatter',x='median_income',y='median_house_value',alpha=0.1)\n",
    "plt.xlabel('median_income')\n",
    "plt.ylabel('median_house_value')\n",
    "plt.title('median income versus median house value')\n",
    "plt.show()"
   ]
  },
  {
   "cell_type": "markdown",
   "id": "5a8affd8",
   "metadata": {},
   "source": [
    "## This plot reveals a few things, first the correlation is indeed very strong; you can clearly see the upward trend and the point are not too dispersed.\n",
    "\n",
    "## Second the price cap that we noiced earlier is clearly visible as a horizonal line around doller 500000, but this plot reveals other less staight line horizontal line around 280000 and few more below that."
   ]
  },
  {
   "cell_type": "code",
   "execution_count": null,
   "id": "8f3c3894",
   "metadata": {},
   "outputs": [],
   "source": [
    "cf.info()"
   ]
  },
  {
   "cell_type": "code",
   "execution_count": null,
   "id": "a89dbec9",
   "metadata": {},
   "outputs": [],
   "source": [
    "cf['rooms_per_household']=cf['total_bedrooms']/cf['households']\n",
    "cf['bedrooms_per_rooms']=cf['total_bedrooms']/cf['total_rooms']\n",
    "cf['population_per_households']=cf['population']/cf['households']"
   ]
  },
  {
   "cell_type": "code",
   "execution_count": null,
   "id": "b2c727f4",
   "metadata": {},
   "outputs": [],
   "source": [
    "corr_matrix2=cf.corr()\n",
    "corr_matrix2"
   ]
  },
  {
   "cell_type": "code",
   "execution_count": null,
   "id": "f4e58ac5",
   "metadata": {},
   "outputs": [],
   "source": [
    "import seaborn as sns\n",
    "fig=plt.figure(figsize=(12,8))\n",
    "fig.add_subplot(1,1,1)\n",
    "sns.heatmap(corr_matrix2,annot=True,cmap='Oranges')"
   ]
  },
  {
   "cell_type": "markdown",
   "id": "e3d82be4",
   "metadata": {},
   "source": [
    "## Prepare the data for machine learning"
   ]
  },
  {
   "cell_type": "code",
   "execution_count": null,
   "id": "6e5df1d8",
   "metadata": {},
   "outputs": [],
   "source": [
    "x=strat_train_set.drop('median_house_value',axis=1)\n",
    "y=strat_train_set['median_house_value'].copy()"
   ]
  },
  {
   "cell_type": "code",
   "execution_count": null,
   "id": "596cd6b7",
   "metadata": {},
   "outputs": [],
   "source": [
    "x.isnull().any()"
   ]
  },
  {
   "cell_type": "code",
   "execution_count": null,
   "id": "39b52e38",
   "metadata": {},
   "outputs": [],
   "source": [
    "z=x.copy()"
   ]
  },
  {
   "cell_type": "code",
   "execution_count": null,
   "id": "e7a1efc6",
   "metadata": {},
   "outputs": [],
   "source": [
    "z.isnull().any()"
   ]
  },
  {
   "cell_type": "markdown",
   "id": "20d16a95",
   "metadata": {},
   "source": [
    "## Making dummy filling median value"
   ]
  },
  {
   "cell_type": "code",
   "execution_count": null,
   "id": "f3621dc4",
   "metadata": {},
   "outputs": [],
   "source": [
    "median=z['total_bedrooms'].median()\n",
    "z['total_bedrooms'].fillna(median,inplace=True)"
   ]
  },
  {
   "cell_type": "code",
   "execution_count": null,
   "id": "6a13e76c",
   "metadata": {},
   "outputs": [],
   "source": [
    "z.isnull().any()"
   ]
  },
  {
   "cell_type": "markdown",
   "id": "985dbf24",
   "metadata": {},
   "source": [
    "## next mathod \n",
    "### sklearn provide a handy class to take care of missing value,\n",
    "### SimpleImputer is use to help missing values need to creat a instance attributes."
   ]
  },
  {
   "cell_type": "code",
   "execution_count": null,
   "id": "b8ba8258",
   "metadata": {},
   "outputs": [],
   "source": [
    "from sklearn.impute import SimpleImputer\n",
    "imputer=SimpleImputer(strategy='median')"
   ]
  },
  {
   "cell_type": "code",
   "execution_count": null,
   "id": "9cd5b9d6",
   "metadata": {},
   "outputs": [],
   "source": [
    "housing_num=x.drop('ocean_proximity',axis=1)"
   ]
  },
  {
   "cell_type": "code",
   "execution_count": null,
   "id": "b9d6eea1",
   "metadata": {},
   "outputs": [],
   "source": [
    "imputer.fit(housing_num)"
   ]
  },
  {
   "cell_type": "code",
   "execution_count": null,
   "id": "5604d0f9",
   "metadata": {},
   "outputs": [],
   "source": [
    "imputer.statistics_"
   ]
  },
  {
   "cell_type": "code",
   "execution_count": null,
   "id": "579ad7e8",
   "metadata": {},
   "outputs": [],
   "source": [
    "X=imputer.transform(housing_num)"
   ]
  },
  {
   "cell_type": "code",
   "execution_count": null,
   "id": "b0c67b71",
   "metadata": {},
   "outputs": [],
   "source": [
    "X"
   ]
  },
  {
   "cell_type": "code",
   "execution_count": null,
   "id": "3ca7a9fb",
   "metadata": {},
   "outputs": [],
   "source": [
    "housing_tr=pd.DataFrame(X,columns=housing_num.columns,index=housing_num.index)"
   ]
  },
  {
   "cell_type": "code",
   "execution_count": null,
   "id": "4f68a007",
   "metadata": {},
   "outputs": [],
   "source": [
    "housing_tr.head()"
   ]
  },
  {
   "cell_type": "code",
   "execution_count": null,
   "id": "e20cf11b",
   "metadata": {},
   "outputs": [],
   "source": [
    "x.head()"
   ]
  },
  {
   "cell_type": "code",
   "execution_count": null,
   "id": "8eedf704",
   "metadata": {},
   "outputs": [],
   "source": [
    "housing_cat=x[['ocean_proximity']]\n",
    "housing_cat.head(10)"
   ]
  },
  {
   "cell_type": "code",
   "execution_count": null,
   "id": "e2a6558e",
   "metadata": {},
   "outputs": [],
   "source": [
    "from sklearn.preprocessing import OrdinalEncoder"
   ]
  },
  {
   "cell_type": "code",
   "execution_count": null,
   "id": "c00594a9",
   "metadata": {},
   "outputs": [],
   "source": [
    "ordinal_encoder=OrdinalEncoder()\n",
    "housing_cat_encoded=ordinal_encoder.fit_transform(housing_cat)"
   ]
  },
  {
   "cell_type": "code",
   "execution_count": null,
   "id": "425ddb53",
   "metadata": {},
   "outputs": [],
   "source": [
    "ordinal_encoder.categories_"
   ]
  },
  {
   "cell_type": "code",
   "execution_count": null,
   "id": "5bb07c12",
   "metadata": {},
   "outputs": [],
   "source": [
    "housing_cat_encoded[:10]"
   ]
  },
  {
   "cell_type": "markdown",
   "id": "c5b27ea5",
   "metadata": {},
   "source": [
    "# Date :- 22:06:2023"
   ]
  },
  {
   "cell_type": "code",
   "execution_count": null,
   "id": "8579fcb6",
   "metadata": {},
   "outputs": [],
   "source": [
    "from sklearn.preprocessing import OneHotEncoder"
   ]
  },
  {
   "cell_type": "code",
   "execution_count": null,
   "id": "a642d980",
   "metadata": {},
   "outputs": [],
   "source": [
    "cat_encoder=OneHotEncoder()\n",
    "housing_cat_hot1=cat_encoder.fit_transform(housing_cat)\n",
    "housing_cat_hot1"
   ]
  },
  {
   "cell_type": "code",
   "execution_count": null,
   "id": "25cea45a",
   "metadata": {},
   "outputs": [],
   "source": [
    "housing_cat_hot1.toarray()"
   ]
  },
  {
   "cell_type": "code",
   "execution_count": null,
   "id": "2961460d",
   "metadata": {},
   "outputs": [],
   "source": [
    "cat_encoder.categories_"
   ]
  },
  {
   "cell_type": "markdown",
   "id": "d61971eb",
   "metadata": {},
   "source": [
    "# Transformation of pipeline"
   ]
  },
  {
   "cell_type": "code",
   "execution_count": null,
   "id": "c5b85558",
   "metadata": {},
   "outputs": [],
   "source": [
    "from sklearn.pipeline import Pipeline\n",
    "from sklearn.preprocessing import StandardScaler"
   ]
  },
  {
   "cell_type": "code",
   "execution_count": null,
   "id": "d1ab49ff",
   "metadata": {},
   "outputs": [],
   "source": [
    "num_pipeline=Pipeline([\n",
    "    ('imputer',SimpleImputer(strategy='median')),\n",
    "    ('sts_scaler',StandardScaler())\n",
    "])"
   ]
  },
  {
   "cell_type": "code",
   "execution_count": null,
   "id": "454f6ef2",
   "metadata": {},
   "outputs": [],
   "source": [
    "from sklearn.compose import ColumnTransformer"
   ]
  },
  {
   "cell_type": "code",
   "execution_count": null,
   "id": "76b8c9a2",
   "metadata": {},
   "outputs": [],
   "source": [
    "num_attribs=list(housing_num)\n",
    "cat_attribs=[\"ocean_proximity\"]"
   ]
  },
  {
   "cell_type": "code",
   "execution_count": null,
   "id": "1001b00b",
   "metadata": {},
   "outputs": [],
   "source": [
    "full_pipeline=ColumnTransformer([\n",
    "    (\"num\",num_pipeline,num_attribs),\n",
    "    (\"cat\",OneHotEncoder(),cat_attribs)\n",
    "])"
   ]
  },
  {
   "cell_type": "code",
   "execution_count": null,
   "id": "97c09c5b",
   "metadata": {},
   "outputs": [],
   "source": [
    "housing_prepared=full_pipeline.fit_transform(x)"
   ]
  },
  {
   "cell_type": "code",
   "execution_count": null,
   "id": "810c4b52",
   "metadata": {},
   "outputs": [],
   "source": [
    "x.head()"
   ]
  },
  {
   "cell_type": "code",
   "execution_count": null,
   "id": "e04e7cfb",
   "metadata": {},
   "outputs": [],
   "source": [
    "x.isnull().any()"
   ]
  },
  {
   "cell_type": "code",
   "execution_count": null,
   "id": "ce438f3e",
   "metadata": {},
   "outputs": [],
   "source": [
    "housing_prepared"
   ]
  },
  {
   "cell_type": "code",
   "execution_count": null,
   "id": "467a3d09",
   "metadata": {},
   "outputs": [],
   "source": [
    "from sklearn.linear_model import LinearRegression\n",
    "from sklearn.tree import DecisionTreeRegressor\n",
    "from sklearn.ensemble import RandomForestRegressor"
   ]
  },
  {
   "cell_type": "code",
   "execution_count": null,
   "id": "333642f9",
   "metadata": {},
   "outputs": [],
   "source": [
    "lin_reg=LinearRegression()\n",
    "lin_reg.fit(housing_prepared,y)"
   ]
  },
  {
   "cell_type": "code",
   "execution_count": null,
   "id": "62b89d26",
   "metadata": {},
   "outputs": [],
   "source": [
    "some_data=x.iloc[:5]\n",
    "some_label=y.iloc[:5]\n",
    "some_data_prepared=full_pipeline.transform(some_data)"
   ]
  },
  {
   "cell_type": "code",
   "execution_count": null,
   "id": "e2cf6a68",
   "metadata": {},
   "outputs": [],
   "source": [
    "print(\"Prediction : \",lin_reg.predict(some_data_prepared))"
   ]
  },
  {
   "cell_type": "code",
   "execution_count": null,
   "id": "77e38d09",
   "metadata": {},
   "outputs": [],
   "source": [
    "print('Labels',some_label)"
   ]
  },
  {
   "cell_type": "code",
   "execution_count": null,
   "id": "e9da26ee",
   "metadata": {},
   "outputs": [],
   "source": [
    "from sklearn.metrics import mean_squared_error"
   ]
  },
  {
   "cell_type": "code",
   "execution_count": null,
   "id": "af209657",
   "metadata": {},
   "outputs": [],
   "source": [
    "#Under fitting\n",
    "housing_prediction=lin_reg.predict(housing_prepared)\n",
    "lin_mse=mean_squared_error(y,housing_prediction)\n",
    "lin_rmse=np.sqrt(lin_mse)\n",
    "lin_rmse"
   ]
  },
  {
   "cell_type": "code",
   "execution_count": null,
   "id": "7bbcf670",
   "metadata": {},
   "outputs": [],
   "source": [
    "tree_reg=DecisionTreeRegressor()\n",
    "tree_reg.fit(housing_prepared,y)"
   ]
  },
  {
   "cell_type": "code",
   "execution_count": null,
   "id": "e4d5eb3a",
   "metadata": {},
   "outputs": [],
   "source": [
    "# Overfitting\n",
    "housing_prediction=tree_reg.predict(housing_prepared)\n",
    "tree_mse=mean_squared_error(y,housing_prediction)\n",
    "tree_rmse=np.sqrt(tree_mse)\n",
    "tree_rmse"
   ]
  },
  {
   "cell_type": "markdown",
   "id": "2259abb5",
   "metadata": {},
   "source": [
    "## cross validation :- "
   ]
  },
  {
   "cell_type": "code",
   "execution_count": null,
   "id": "b474c702",
   "metadata": {},
   "outputs": [],
   "source": [
    "from sklearn.model_selection import cross_val_score"
   ]
  },
  {
   "cell_type": "code",
   "execution_count": null,
   "id": "8e5d1470",
   "metadata": {},
   "outputs": [],
   "source": [
    "scores=cross_val_score(tree_reg,housing_prepared,y,scoring='neg_mean_squared_error',cv=10)\n",
    "tree_rmse_scores=np.sqrt(-scores)"
   ]
  },
  {
   "cell_type": "code",
   "execution_count": null,
   "id": "51eb7d64",
   "metadata": {},
   "outputs": [],
   "source": [
    "def display(scores):\n",
    "    print(\"scores\",scores)\n",
    "    print(\"mean\",scores.mean())\n",
    "    print(\"Standard Deviation\",scores.std())"
   ]
  },
  {
   "cell_type": "code",
   "execution_count": null,
   "id": "ff237c9d",
   "metadata": {},
   "outputs": [],
   "source": [
    "display(tree_rmse_scores)"
   ]
  },
  {
   "cell_type": "code",
   "execution_count": null,
   "id": "b320f997",
   "metadata": {},
   "outputs": [],
   "source": [
    "lin_scores=cross_val_score(lin_reg,housing_prepared,y,scoring='neg_mean_squared_error',cv=10)\n",
    "lin_rmse_scores=np.sqrt(-lin_scores)"
   ]
  },
  {
   "cell_type": "code",
   "execution_count": null,
   "id": "6a0e7f0d",
   "metadata": {},
   "outputs": [],
   "source": [
    "display(lin_rmse_scores)"
   ]
  },
  {
   "cell_type": "code",
   "execution_count": null,
   "id": "c80c9cde",
   "metadata": {},
   "outputs": [],
   "source": [
    "forest_reg=RandomForestRegressor()\n",
    "model=forest_reg.fit(housing_prepared,y)"
   ]
  },
  {
   "cell_type": "code",
   "execution_count": null,
   "id": "a498d393",
   "metadata": {},
   "outputs": [],
   "source": [
    "forest_reg.fit(housing_prepared,y)"
   ]
  },
  {
   "cell_type": "code",
   "execution_count": null,
   "id": "7dbadb58",
   "metadata": {},
   "outputs": [],
   "source": [
    "forest_scores=cross_val_score(forest_reg,housing_prepared,y,scoring='neg_mean_squared_error',cv=10)\n",
    "forest_rmse_scores=np.sqrt(-forest_scores)"
   ]
  },
  {
   "cell_type": "code",
   "execution_count": null,
   "id": "07083543",
   "metadata": {},
   "outputs": [],
   "source": [
    "display(forest_rmse_scores)"
   ]
  },
  {
   "cell_type": "code",
   "execution_count": null,
   "id": "01dc323b",
   "metadata": {},
   "outputs": [],
   "source": [
    "import joblib"
   ]
  },
  {
   "cell_type": "code",
   "execution_count": null,
   "id": "94773b86",
   "metadata": {},
   "outputs": [],
   "source": [
    "joblib.dump(forest_reg,\"my_cal_model.pkl\")"
   ]
  },
  {
   "cell_type": "markdown",
   "id": "f2cc1b00",
   "metadata": {},
   "source": [
    "## Fine_tune_model"
   ]
  },
  {
   "cell_type": "code",
   "execution_count": null,
   "id": "0bed337d",
   "metadata": {},
   "outputs": [],
   "source": [
    "from sklearn.model_selection import GridSearchCV"
   ]
  },
  {
   "cell_type": "code",
   "execution_count": null,
   "id": "acbd7805",
   "metadata": {},
   "outputs": [],
   "source": [
    "param_grid=[{\n",
    "    'n_estimators':[3,10,30],'max_features':[2,4,6,8]},\n",
    "    {'bootstrap':[False],'n_estimators':[3,10],'max_features':[2,3,4]}\n",
    "]"
   ]
  },
  {
   "cell_type": "code",
   "execution_count": null,
   "id": "9bd36044",
   "metadata": {},
   "outputs": [],
   "source": [
    "forest_reg=RandomForestRegressor()\n",
    "grid_search=GridSearchCV(forest_reg,param_grid,cv=5,scoring='neg_mean_squared_error',\n",
    "                        return_train_score=True)\n",
    "grid_search.fit(housing_prepared,y)"
   ]
  },
  {
   "cell_type": "code",
   "execution_count": null,
   "id": "ea18d4bd",
   "metadata": {},
   "outputs": [],
   "source": [
    "grid_search.best_params_"
   ]
  },
  {
   "cell_type": "code",
   "execution_count": null,
   "id": "1ccacb14",
   "metadata": {},
   "outputs": [],
   "source": [
    "grid_search.best_estimator_"
   ]
  },
  {
   "cell_type": "code",
   "execution_count": null,
   "id": "b279bc1c",
   "metadata": {},
   "outputs": [],
   "source": [
    "cvres=grid_search.cv_results_"
   ]
  },
  {
   "cell_type": "code",
   "execution_count": null,
   "id": "c26199ec",
   "metadata": {},
   "outputs": [],
   "source": [
    "for mean_score,param in zip(cvres[\"mean_test_score\"],cvres[\"params\"]):\n",
    "    print(np.sqrt(-mean_score),param)"
   ]
  },
  {
   "cell_type": "code",
   "execution_count": null,
   "id": "6c271c35",
   "metadata": {},
   "outputs": [],
   "source": [
    "final_model=grid_search.best_estimator_\n",
    "X_test=strat_test_set.drop('median_house_value',axis=1)\n",
    "Y_test=strat_test_set['median_house_value'].copy()\n",
    "X_test_prepared=full_pipeline.transform(X_test)"
   ]
  },
  {
   "cell_type": "code",
   "execution_count": null,
   "id": "ab989d4c",
   "metadata": {},
   "outputs": [],
   "source": [
    "final_prediction=final_model.predict(X_test_prepared)"
   ]
  },
  {
   "cell_type": "code",
   "execution_count": null,
   "id": "10c732b7",
   "metadata": {},
   "outputs": [],
   "source": [
    "final_mse=mean_squared_error(Y_test,final_prediction)"
   ]
  },
  {
   "cell_type": "code",
   "execution_count": null,
   "id": "6618727c",
   "metadata": {},
   "outputs": [],
   "source": [
    "final_rmse=np.sqrt(final_mse)"
   ]
  },
  {
   "cell_type": "code",
   "execution_count": null,
   "id": "7a48fc43",
   "metadata": {},
   "outputs": [],
   "source": [
    "final_rmse"
   ]
  },
  {
   "cell_type": "code",
   "execution_count": null,
   "id": "59295904",
   "metadata": {},
   "outputs": [],
   "source": [
    "from scipy import stats"
   ]
  },
  {
   "cell_type": "code",
   "execution_count": null,
   "id": "fab51191",
   "metadata": {},
   "outputs": [],
   "source": [
    "confidence=0.95\n",
    "squared_errors=(final_prediction-Y_test)**2\n",
    "np.sqrt(stats.t.interval(confidence,len(squared_errors)-1,\n",
    "                        loc=squared_errors.mean(),\n",
    "                        scale=stats.sem(squared_errors)))"
   ]
  },
  {
   "cell_type": "code",
   "execution_count": null,
   "id": "b0ebccc1",
   "metadata": {},
   "outputs": [],
   "source": [
    "import pickle"
   ]
  },
  {
   "cell_type": "code",
   "execution_count": null,
   "id": "7490c1c3",
   "metadata": {},
   "outputs": [],
   "source": [
    "with open('california_model','wb') as f:\n",
    "    pickle.dump(final_model,f)"
   ]
  },
  {
   "cell_type": "code",
   "execution_count": null,
   "id": "a9801cf2",
   "metadata": {},
   "outputs": [],
   "source": [
    "from flask import Flask\n",
    "from flask import request\n",
    "from flask import render_template\n",
    "import joblib\n",
    "app = Flask(__name__)\n",
    "\n",
    "model = joblib.load('california_model')\n",
    "@app.route('/')\n",
    "def hello(name=None):\n",
    "    return render_template('index.html',name=name)\n",
    "\n",
    "\n",
    "@app.route('/results', methods =[\"GET\", \"POST\"])\n",
    "def get_value():\n",
    "    if request.method == \"POST\":\n",
    "        log = float(request.form.get('lan'))\n",
    "        lan = float(request.form.get('log'))\n",
    "        mha = float(request.form.get('mha'))\n",
    "        tr = float(request.form.get('tr'))\n",
    "        tbr = float(request.form.get('tbr'))\n",
    "        popula = float(request.form.get('popula'))\n",
    "        hh = float(request.form.get('hh'))\n",
    "        mi = float(request.form.get('mi'))\n",
    "        mhv=float(request.form.get('mhv'))\n",
    "        op = float(request.form.get('op'))\n",
    "        predict_value = model.predict([[log,lan,mha,tr,tbr,popula,hh,mi,mhv,op,0,0,0]])\n",
    "        print(predict_value)\n",
    "    return render_template('results.html',prediction=[predict_value,lan,log])"
   ]
  },
  {
   "cell_type": "code",
   "execution_count": null,
   "id": "4e63d3d2",
   "metadata": {},
   "outputs": [],
   "source": [
    "model"
   ]
  },
  {
   "cell_type": "code",
   "execution_count": null,
   "id": "d845271c",
   "metadata": {},
   "outputs": [],
   "source": [
    "if __name__=='__main__':\n",
    "    app.run()"
   ]
  }
 ],
 "metadata": {
  "kernelspec": {
   "display_name": "Python 3 (ipykernel)",
   "language": "python",
   "name": "python3"
  },
  "language_info": {
   "codemirror_mode": {
    "name": "ipython",
    "version": 3
   },
   "file_extension": ".py",
   "mimetype": "text/x-python",
   "name": "python",
   "nbconvert_exporter": "python",
   "pygments_lexer": "ipython3",
   "version": "3.10.9"
  }
 },
 "nbformat": 4,
 "nbformat_minor": 5
}
